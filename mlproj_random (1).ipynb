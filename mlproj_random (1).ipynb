{
 "cells": [
  {
   "cell_type": "code",
   "execution_count": 58,
   "metadata": {},
   "outputs": [],
   "source": [
    "import pandas as pd\n",
    "import numpy as np\n",
    "import seaborn as sns\n",
    "import matplotlib.pyplot as plt\n",
    "from sklearn.preprocessing import LabelEncoder"
   ]
  },
  {
   "cell_type": "code",
   "execution_count": 59,
   "metadata": {},
   "outputs": [],
   "source": [
    "df=pd.read_csv(\"train.csv\")"
   ]
  },
  {
   "cell_type": "code",
   "execution_count": 60,
   "metadata": {},
   "outputs": [],
   "source": [
    "#df.head()"
   ]
  },
  {
   "cell_type": "code",
   "execution_count": 61,
   "metadata": {},
   "outputs": [],
   "source": [
    "#df.describe()"
   ]
  },
  {
   "cell_type": "code",
   "execution_count": 62,
   "metadata": {},
   "outputs": [],
   "source": [
    "#print(df[\"killPoints\"].mean())\n",
    "#print(df[\"winPoints\"].mean())\n",
    "#print(df[\"rankPoints\"].mean())"
   ]
  },
  {
   "cell_type": "code",
   "execution_count": 63,
   "metadata": {},
   "outputs": [],
   "source": [
    "#df.isna().sum()"
   ]
  },
  {
   "cell_type": "code",
   "execution_count": 64,
   "metadata": {},
   "outputs": [],
   "source": [
    "df.drop(axis=\"rows\",labels=df.index[df[\"winPlacePerc\"].isna()],inplace=True)"
   ]
  },
  {
   "cell_type": "code",
   "execution_count": 65,
   "metadata": {},
   "outputs": [],
   "source": [
    "#df.isna().sum()"
   ]
  },
  {
   "cell_type": "code",
   "execution_count": 66,
   "metadata": {},
   "outputs": [],
   "source": [
    "#df"
   ]
  },
  {
   "cell_type": "code",
   "execution_count": 67,
   "metadata": {},
   "outputs": [],
   "source": [
    "#df.loc[df.rankPoints>-1]"
   ]
  },
  {
   "cell_type": "code",
   "execution_count": 68,
   "metadata": {},
   "outputs": [],
   "source": [
    "df.loc[df[\"rankPoints\"]==-1,\"rankPoints\"]=np.nan\n",
    "df.loc[((df[\"rankPoints\"]!=-1) & (df[\"killPoints\"]==0)),\"killPoints\"]=np.nan\n",
    "df.loc[((df[\"rankPoints\"]!=-1) & (df[\"winPoints\"]==0)),\"winPoints\"]=np.nan"
   ]
  },
  {
   "cell_type": "code",
   "execution_count": 69,
   "metadata": {},
   "outputs": [],
   "source": [
    "#df.isna().sum()"
   ]
  },
  {
   "cell_type": "code",
   "execution_count": 70,
   "metadata": {},
   "outputs": [],
   "source": [
    "#print(df[\"killPoints\"].mean())\n",
    "#print(df[\"winPoints\"].mean())\n",
    "#print(df[\"rankPoints\"].mean())"
   ]
  },
  {
   "cell_type": "code",
   "execution_count": 71,
   "metadata": {},
   "outputs": [],
   "source": [
    "df.loc[df[\"killPoints\"].isna(),\"killPoints\"]=df[\"killPoints\"].mean()\n",
    "df.loc[df[\"winPoints\"].isna(),\"winPoints\"]=df[\"winPoints\"].mean()\n",
    "df.loc[df[\"rankPoints\"].isna(),\"rankPoints\"]=df[\"rankPoints\"].mean()"
   ]
  },
  {
   "cell_type": "code",
   "execution_count": 72,
   "metadata": {},
   "outputs": [],
   "source": [
    "#testdf=df"
   ]
  },
  {
   "cell_type": "code",
   "execution_count": 73,
   "metadata": {},
   "outputs": [],
   "source": [
    "#df.nunique()"
   ]
  },
  {
   "cell_type": "code",
   "execution_count": 74,
   "metadata": {},
   "outputs": [],
   "source": [
    "#df[\"matchType\"].unique()"
   ]
  },
  {
   "cell_type": "code",
   "execution_count": null,
   "metadata": {},
   "outputs": [],
   "source": [
    "lbl_encodr=LabelEncoder()"
   ]
  },
  {
   "cell_type": "code",
   "execution_count": 75,
   "metadata": {},
   "outputs": [],
   "source": [
    "col_ohenc=[\"matchType\"]\n",
    "df=pd.get_dummies(df,columns=col_ohenc)\n",
    "#df.head()"
   ]
  },
  {
   "cell_type": "code",
   "execution_count": 76,
   "metadata": {},
   "outputs": [],
   "source": [
    "new_type=lbl_encodr.fit_transform(df[\"groupId\"])\n",
    "#new_type"
   ]
  },
  {
   "cell_type": "code",
   "execution_count": 77,
   "metadata": {},
   "outputs": [],
   "source": [
    "df[\"groupId\"]=new_type\n",
    "#df.head()"
   ]
  },
  {
   "cell_type": "code",
   "execution_count": 78,
   "metadata": {},
   "outputs": [],
   "source": [
    "new_type=lbl_encodr.fit_transform(df[\"matchId\"])\n",
    "df[\"matchId\"]=new_type\n",
    "#df.head()"
   ]
  },
  {
   "cell_type": "code",
   "execution_count": 79,
   "metadata": {},
   "outputs": [],
   "source": [
    "new_type=lbl_encodr.fit_transform(df[\"Id\"])\n",
    "df[\"Id\"]=new_type\n",
    "#df.head()"
   ]
  },
  {
   "cell_type": "code",
   "execution_count": 80,
   "metadata": {},
   "outputs": [],
   "source": [
    "#df.index[df.duplicated()]"
   ]
  },
  {
   "cell_type": "code",
   "execution_count": 81,
   "metadata": {},
   "outputs": [],
   "source": [
    "#df.columns"
   ]
  },
  {
   "cell_type": "code",
   "execution_count": 82,
   "metadata": {},
   "outputs": [],
   "source": [
    "matchtypes=df.filter(regex='^matchType',axis=1).columns\n",
    "#matchtypes"
   ]
  },
  {
   "cell_type": "code",
   "execution_count": 83,
   "metadata": {},
   "outputs": [],
   "source": [
    "catcols = matchtypes.to_list()\n",
    "for i in [\"Id\",\"groupId\",\"matchId\"]:\n",
    "        catcols.append(i)\n",
    "dfnum=df.drop(axis=\"columns\",labels=catcols)\n",
    "dfnum.drop(axis=\"columns\",labels=\"winPlacePerc\",inplace=True)"
   ]
  },
  {
   "cell_type": "code",
   "execution_count": 84,
   "metadata": {},
   "outputs": [],
   "source": [
    "#sns.set(rc={'figure.figsize':(6,5)})"
   ]
  },
  {
   "cell_type": "code",
   "execution_count": 85,
   "metadata": {},
   "outputs": [],
   "source": [
    "#for i in dfnum.columns:\n",
    "#    plt.hist(df[i],bins=500)\n",
    "#    print(i)\n",
    "#    plt.show()"
   ]
  },
  {
   "cell_type": "code",
   "execution_count": 86,
   "metadata": {},
   "outputs": [],
   "source": [
    "#plt.hist(np.power(testdf[\"matchDuration\"],2),bins=500)\n",
    "#plt.show()"
   ]
  },
  {
   "cell_type": "code",
   "execution_count": 87,
   "metadata": {},
   "outputs": [],
   "source": [
    "#testdf_cont=testdfnum.drop(axis=\"columns\",labels=[\"matchDuration\",\"winPlacePerc\"])\n",
    "#for i in testdf_cont.columns:\n",
    "#    plt.hist(np.power(testdf_cont[i],1/2.05),bins=500)\n",
    "#    print(i)\n",
    "#    plt.show()\n",
    "#    testdf[i]=np.power(testdf_cont[i],1/2.05)"
   ]
  },
  {
   "cell_type": "code",
   "execution_count": 88,
   "metadata": {},
   "outputs": [],
   "source": [
    "#testdf_new=pd.DataFrame()\n",
    "#testdf_new[\"damageDealt\"]=testdf[\"damageDealt\"]\n",
    "#testdf_new[\"walkDistance\"]=testdf[\"walkDistance\"]\n",
    "#testdf_new[\"weaponsAcquired\"]=testdf[\"weaponsAcquired\"]"
   ]
  },
  {
   "cell_type": "code",
   "execution_count": 89,
   "metadata": {},
   "outputs": [],
   "source": [
    "#testdf_new"
   ]
  },
  {
   "cell_type": "code",
   "execution_count": 90,
   "metadata": {},
   "outputs": [],
   "source": [
    "#for i in testdf_new.columns:\n",
    "#    plt.hist(np.power(testdf_new[i],1/2),bins=500)\n",
    "#    print(i)\n",
    "#    plt.show()\n",
    "#    testdf[i]=np.power(testdf_new[i],1/2)"
   ]
  },
  {
   "cell_type": "code",
   "execution_count": 91,
   "metadata": {},
   "outputs": [],
   "source": [
    "#testdf[\"matchDuration\"]=np.power(testdf[\"matchDuration\"],2)\n",
    "\n",
    "#for i in testdf_cont.columns:\n",
    "#    testdf[i]=testdf_cont[i]\n",
    "\n",
    "#for i in testdf_new.columns:\n",
    "#    testdf[i]=testdf_new[i]\n",
    "\n",
    "#testdf"
   ]
  },
  {
   "cell_type": "code",
   "execution_count": 92,
   "metadata": {},
   "outputs": [],
   "source": [
    "class Standardizer():\n",
    "    def __init__(self,meu,stdv):\n",
    "        self.meu=meu\n",
    "        self.stdv=stdv\n",
    "\n",
    "    def scale(self,x):\n",
    "        return (x - self.meu)/(self.stdv)"
   ]
  },
  {
   "cell_type": "code",
   "execution_count": 93,
   "metadata": {},
   "outputs": [],
   "source": [
    "#for i in dfnum.columns:\n",
    "    #sns.boxplot(x=dfnum[i])\n",
    "#    sns.scatterplot(x=df[i],y=df[\"winPlacePerc\"])\n",
    "#    print(i)\n",
    "#    plt.show()"
   ]
  },
  {
   "cell_type": "code",
   "execution_count": 94,
   "metadata": {},
   "outputs": [],
   "source": [
    "#sns.scatterplot(x=testdf.loc[testdf[\"assists\"]<13.7,\"assists\"],y=testdf[\"winPlacePerc\"])\n",
    "#plt.show()\n",
    "df=df.loc[df[\"assists\"]<13.7]"
   ]
  },
  {
   "cell_type": "code",
   "execution_count": 95,
   "metadata": {},
   "outputs": [],
   "source": [
    "#sns.scatterplot(x=df.loc[((-df[\"boosts\"]+12*df[\"winPlacePerc\"])>-9),\"boosts\"],y=df[\"winPlacePerc\"])\n",
    "#plt.show()\n",
    "df=df.loc[((-df[\"boosts\"]+12*df[\"winPlacePerc\"])>-9)]"
   ]
  },
  {
   "cell_type": "code",
   "execution_count": 96,
   "metadata": {},
   "outputs": [],
   "source": [
    "#sns.scatterplot(x=df.loc[((-df[\"damageDealt\"]+2300*df[\"winPlacePerc\"]>-1900)),\"damageDealt\"],y=df[\"winPlacePerc\"])\n",
    "#plt.show()\n",
    "df=df.loc[((-df[\"damageDealt\"]+1750*df[\"winPlacePerc\"]>-1750))]"
   ]
  },
  {
   "cell_type": "code",
   "execution_count": 97,
   "metadata": {},
   "outputs": [],
   "source": [
    "#sns.scatterplot(x=df.loc[((20*df[\"winPlacePerc\"]-df[\"DBNOs\"]>-25)&(df[\"DBNOs\"]<35)),\"DBNOs\"],y=df[\"winPlacePerc\"])\n",
    "#plt.show()\n",
    "df=df.loc[((20*df[\"winPlacePerc\"]-df[\"DBNOs\"]>-25)&(df[\"DBNOs\"]<35))]"
   ]
  },
  {
   "cell_type": "code",
   "execution_count": 98,
   "metadata": {},
   "outputs": [],
   "source": [
    "#sns.scatterplot(x=df.loc[(-df[\"headshotKills\"]+10.5*df[\"winPlacePerc\"]>-7.5),\"headshotKills\"],y=df[\"winPlacePerc\"])\n",
    "#plt.show()\n",
    "df=df.loc[(-df[\"headshotKills\"]+10.5*df[\"winPlacePerc\"]>-7.5)]"
   ]
  },
  {
   "cell_type": "code",
   "execution_count": 99,
   "metadata": {},
   "outputs": [],
   "source": [
    "#sns.scatterplot(x=testdf.loc[testdf[\"heals\"]<52.5,\"heals\"],y=testdf[\"winPlacePerc\"])\n",
    "#plt.show()\n",
    "df=df.loc[df[\"heals\"]<52.5]"
   ]
  },
  {
   "cell_type": "code",
   "execution_count": 100,
   "metadata": {},
   "outputs": [],
   "source": [
    "#sns.scatterplot(x=df.loc[df[\"kills\"]<44.5,\"kills\"],y=df[\"winPlacePerc\"])\n",
    "#plt.show()\n",
    "df=df.loc[df[\"kills\"]<44.5]"
   ]
  },
  {
   "cell_type": "code",
   "execution_count": 101,
   "metadata": {},
   "outputs": [],
   "source": [
    "#sns.scatterplot(x=df.loc[(7*df[\"killPlace\"]+400*df[\"winPlacePerc\"]<780),\"killPlace\"],y=df[\"winPlacePerc\"])\n",
    "#plt.show()\n",
    "df=df.loc[(7*df[\"killPlace\"]+400*df[\"winPlacePerc\"]<780)]"
   ]
  },
  {
   "cell_type": "code",
   "execution_count": 102,
   "metadata": {},
   "outputs": [],
   "source": [
    "#sns.scatterplot(x=df.loc[((df[\"killPoints\"]>750)|(df[\"winPlacePerc\"]<0.42)),\"killPoints\"],y=df[\"winPlacePerc\"])\n",
    "#plt.show()\n",
    "df=df.loc[((df[\"killPoints\"]>750)|(df[\"winPlacePerc\"]<0.42))]"
   ]
  },
  {
   "cell_type": "code",
   "execution_count": 103,
   "metadata": {},
   "outputs": [],
   "source": [
    "#sns.scatterplot(x=df.loc[((df[\"longestKill\"]<1075)&((df[\"longestKill\"]<600)|(df[\"winPlacePerc\"]>0.5))),\"longestKill\"],y=df[\"winPlacePerc\"])\n",
    "#plt.show()\n",
    "df=df.loc[((df[\"longestKill\"]<1075)&((df[\"longestKill\"]<600)|(df[\"winPlacePerc\"]>0.5)))]"
   ]
  },
  {
   "cell_type": "code",
   "execution_count": 104,
   "metadata": {},
   "outputs": [],
   "source": [
    "#sns.scatterplot(x=df.loc[df[\"revives\"]<22.5,\"revives\"],y=df[\"winPlacePerc\"])\n",
    "#plt.show()\n",
    "df=df.loc[df[\"revives\"]<22.5]"
   ]
  },
  {
   "cell_type": "code",
   "execution_count": 105,
   "metadata": {},
   "outputs": [],
   "source": [
    "#sns.scatterplot(x=df.loc[((df[\"rankPoints\"]<4200)|(df[\"winPlacePerc\"]>0.88)),\"rankPoints\"],y=df[\"winPlacePerc\"])\n",
    "#plt.show()\n",
    "df=df.loc[((df[\"rankPoints\"]<4200)|(df[\"winPlacePerc\"]>0.88))]"
   ]
  },
  {
   "cell_type": "code",
   "execution_count": 106,
   "metadata": {},
   "outputs": [],
   "source": [
    "#sns.scatterplot(x=df.loc[-df[\"rideDistance\"]+22000*df[\"winPlacePerc\"]>-13000,\"rideDistance\"],y=df[\"winPlacePerc\"])\n",
    "#plt.show()\n",
    "df=df.loc[-df[\"rideDistance\"]+22000*df[\"winPlacePerc\"]>-13000]"
   ]
  },
  {
   "cell_type": "code",
   "execution_count": 107,
   "metadata": {},
   "outputs": [],
   "source": [
    "#sns.scatterplot(x=df.loc[-df[\"swimDistance\"]+975*df[\"winPlacePerc\"]>-525,\"swimDistance\"],y=df[\"winPlacePerc\"])\n",
    "#plt.show()\n",
    "df=df.loc[-df[\"swimDistance\"]+975*df[\"winPlacePerc\"]>-525]"
   ]
  },
  {
   "cell_type": "code",
   "execution_count": 108,
   "metadata": {},
   "outputs": [],
   "source": [
    "#sns.scatterplot(x=df.loc[df[\"teamKills\"]<8.5,\"teamKills\"],y=df[\"winPlacePerc\"])\n",
    "#plt.show()\n",
    "df=df.loc[df[\"teamKills\"]<8.5]"
   ]
  },
  {
   "cell_type": "code",
   "execution_count": 109,
   "metadata": {},
   "outputs": [],
   "source": [
    "#sns.scatterplot(x=df.loc[(-df[\"walkDistance\"]+10000*df[\"winPlacePerc\"]>-5000),\"walkDistance\"],y=df[\"winPlacePerc\"])\n",
    "#plt.show()\n",
    "df=df.loc[(-df[\"walkDistance\"]+10000*df[\"winPlacePerc\"]>-5000)]"
   ]
  },
  {
   "cell_type": "code",
   "execution_count": 110,
   "metadata": {},
   "outputs": [],
   "source": [
    "#sns.scatterplot(x=df.loc[df[\"weaponsAcquired\"]<80,\"weaponsAcquired\"],y=df[\"winPlacePerc\"])\n",
    "#plt.show()\n",
    "df=df.loc[df[\"weaponsAcquired\"]<80]"
   ]
  },
  {
   "cell_type": "code",
   "execution_count": 111,
   "metadata": {},
   "outputs": [],
   "source": [
    "#sns.scatterplot(x=df.loc[((df[\"winPoints\"]>1100)|(df[\"winPlacePerc\"]<0.32)),\"winPoints\"],y=df[\"winPlacePerc\"])\n",
    "#plt.show()\n",
    "df=df.loc[((df[\"winPoints\"]>1100)|(df[\"winPlacePerc\"]<0.32))]"
   ]
  },
  {
   "cell_type": "code",
   "execution_count": 112,
   "metadata": {},
   "outputs": [],
   "source": [
    "for i in dfnum.columns:\n",
    "    normcol=df[i]\n",
    "    scaler=Standardizer(normcol.mean(),normcol.std())\n",
    "    scaledcol=normcol.apply(scaler.scale)\n",
    "    #print(i)\n",
    "    #sns.displot(scaledcol,kde=True)\n",
    "    #plt.show()\n",
    "    df[i]=scaledcol    "
   ]
  },
  {
   "cell_type": "code",
   "execution_count": 114,
   "metadata": {},
   "outputs": [
    {
     "ename": "ModuleNotFoundError",
     "evalue": "No module named 'lightgbm'",
     "output_type": "error",
     "traceback": [
      "\u001b[0;31m---------------------------------------------------------------------------\u001b[0m",
      "\u001b[0;31mModuleNotFoundError\u001b[0m                       Traceback (most recent call last)",
      "\u001b[1;32m/Users/vaibhavsharma/Desktop/ML-Project/mlproj_random (1).ipynb Cell 57\u001b[0m in \u001b[0;36m<cell line: 1>\u001b[0;34m()\u001b[0m\n\u001b[0;32m----> <a href='vscode-notebook-cell:/Users/vaibhavsharma/Desktop/ML-Project/mlproj_random%20%281%29.ipynb#Y106sZmlsZQ%3D%3D?line=0'>1</a>\u001b[0m \u001b[39mimport\u001b[39;00m \u001b[39mlightgbm\u001b[39;00m \u001b[39mas\u001b[39;00m \u001b[39mlgb\u001b[39;00m\n\u001b[1;32m      <a href='vscode-notebook-cell:/Users/vaibhavsharma/Desktop/ML-Project/mlproj_random%20%281%29.ipynb#Y106sZmlsZQ%3D%3D?line=2'>3</a>\u001b[0m \u001b[39mimport\u001b[39;00m \u001b[39mwarnings\u001b[39;00m\n\u001b[1;32m      <a href='vscode-notebook-cell:/Users/vaibhavsharma/Desktop/ML-Project/mlproj_random%20%281%29.ipynb#Y106sZmlsZQ%3D%3D?line=3'>4</a>\u001b[0m warnings\u001b[39m.\u001b[39mfilterwarnings(\u001b[39m\"\u001b[39m\u001b[39mignore\u001b[39m\u001b[39m\"\u001b[39m,category\u001b[39m=\u001b[39m\u001b[39mUserWarning\u001b[39;00m)\n",
      "\u001b[0;31mModuleNotFoundError\u001b[0m: No module named 'lightgbm'"
     ]
    }
   ],
   "source": [
    "import lightgbm as lgb\n",
    "\n",
    "import warnings\n",
    "warnings.filterwarnings(\"ignore\",category=UserWarning)"
   ]
  },
  {
   "cell_type": "code",
   "execution_count": null,
   "metadata": {},
   "outputs": [],
   "source": [
    "trn_df=df.drop(axis=\"columns\",labels=\"winPlacePerc\")\n",
    "target=df[\"winPlacePerc\"]\n",
    "\n",
    "reg = lgb.LGBMRegressor(boosting_type=\"rf\",\n",
    "                         num_leaves=165,\n",
    "                         colsample_bytree=.5,\n",
    "                         min_child_samples=10,\n",
    "                         min_child_weight=5,\n",
    "                         n_estimators=400,\n",
    "                         subsample=.632, # Standard RF bagging fraction\n",
    "                         subsample_freq=1,\n",
    "                         min_split_gain=0,\n",
    "                         reg_alpha=10, # Hard L1 regularization\n",
    "                         reg_lambda=0,\n",
    "                         n_jobs=12)"
   ]
  },
  {
   "cell_type": "code",
   "execution_count": null,
   "metadata": {},
   "outputs": [
    {
     "data": {
      "text/plain": [
       "['Id',\n",
       " 'groupId',\n",
       " 'matchId',\n",
       " 'matchType_crashfpp',\n",
       " 'matchType_crashtpp',\n",
       " 'matchType_duo',\n",
       " 'matchType_duo-fpp',\n",
       " 'matchType_flarefpp',\n",
       " 'matchType_flaretpp',\n",
       " 'matchType_normal-duo',\n",
       " 'matchType_normal-duo-fpp',\n",
       " 'matchType_normal-solo',\n",
       " 'matchType_normal-solo-fpp',\n",
       " 'matchType_normal-squad',\n",
       " 'matchType_normal-squad-fpp',\n",
       " 'matchType_solo',\n",
       " 'matchType_solo-fpp',\n",
       " 'matchType_squad',\n",
       " 'matchType_squad-fpp']"
      ]
     },
     "execution_count": 543,
     "metadata": {},
     "output_type": "execute_result"
    }
   ],
   "source": [
    "[f for f in trn_df.columns if f in catcols]"
   ]
  },
  {
   "cell_type": "code",
   "execution_count": null,
   "metadata": {},
   "outputs": [
    {
     "data": {
      "text/html": [
       "<style>#sk-container-id-11 {color: black;background-color: white;}#sk-container-id-11 pre{padding: 0;}#sk-container-id-11 div.sk-toggleable {background-color: white;}#sk-container-id-11 label.sk-toggleable__label {cursor: pointer;display: block;width: 100%;margin-bottom: 0;padding: 0.3em;box-sizing: border-box;text-align: center;}#sk-container-id-11 label.sk-toggleable__label-arrow:before {content: \"▸\";float: left;margin-right: 0.25em;color: #696969;}#sk-container-id-11 label.sk-toggleable__label-arrow:hover:before {color: black;}#sk-container-id-11 div.sk-estimator:hover label.sk-toggleable__label-arrow:before {color: black;}#sk-container-id-11 div.sk-toggleable__content {max-height: 0;max-width: 0;overflow: hidden;text-align: left;background-color: #f0f8ff;}#sk-container-id-11 div.sk-toggleable__content pre {margin: 0.2em;color: black;border-radius: 0.25em;background-color: #f0f8ff;}#sk-container-id-11 input.sk-toggleable__control:checked~div.sk-toggleable__content {max-height: 200px;max-width: 100%;overflow: auto;}#sk-container-id-11 input.sk-toggleable__control:checked~label.sk-toggleable__label-arrow:before {content: \"▾\";}#sk-container-id-11 div.sk-estimator input.sk-toggleable__control:checked~label.sk-toggleable__label {background-color: #d4ebff;}#sk-container-id-11 div.sk-label input.sk-toggleable__control:checked~label.sk-toggleable__label {background-color: #d4ebff;}#sk-container-id-11 input.sk-hidden--visually {border: 0;clip: rect(1px 1px 1px 1px);clip: rect(1px, 1px, 1px, 1px);height: 1px;margin: -1px;overflow: hidden;padding: 0;position: absolute;width: 1px;}#sk-container-id-11 div.sk-estimator {font-family: monospace;background-color: #f0f8ff;border: 1px dotted black;border-radius: 0.25em;box-sizing: border-box;margin-bottom: 0.5em;}#sk-container-id-11 div.sk-estimator:hover {background-color: #d4ebff;}#sk-container-id-11 div.sk-parallel-item::after {content: \"\";width: 100%;border-bottom: 1px solid gray;flex-grow: 1;}#sk-container-id-11 div.sk-label:hover label.sk-toggleable__label {background-color: #d4ebff;}#sk-container-id-11 div.sk-serial::before {content: \"\";position: absolute;border-left: 1px solid gray;box-sizing: border-box;top: 0;bottom: 0;left: 50%;z-index: 0;}#sk-container-id-11 div.sk-serial {display: flex;flex-direction: column;align-items: center;background-color: white;padding-right: 0.2em;padding-left: 0.2em;position: relative;}#sk-container-id-11 div.sk-item {position: relative;z-index: 1;}#sk-container-id-11 div.sk-parallel {display: flex;align-items: stretch;justify-content: center;background-color: white;position: relative;}#sk-container-id-11 div.sk-item::before, #sk-container-id-11 div.sk-parallel-item::before {content: \"\";position: absolute;border-left: 1px solid gray;box-sizing: border-box;top: 0;bottom: 0;left: 50%;z-index: -1;}#sk-container-id-11 div.sk-parallel-item {display: flex;flex-direction: column;z-index: 1;position: relative;background-color: white;}#sk-container-id-11 div.sk-parallel-item:first-child::after {align-self: flex-end;width: 50%;}#sk-container-id-11 div.sk-parallel-item:last-child::after {align-self: flex-start;width: 50%;}#sk-container-id-11 div.sk-parallel-item:only-child::after {width: 0;}#sk-container-id-11 div.sk-dashed-wrapped {border: 1px dashed gray;margin: 0 0.4em 0.5em 0.4em;box-sizing: border-box;padding-bottom: 0.4em;background-color: white;}#sk-container-id-11 div.sk-label label {font-family: monospace;font-weight: bold;display: inline-block;line-height: 1.2em;}#sk-container-id-11 div.sk-label-container {text-align: center;}#sk-container-id-11 div.sk-container {/* jupyter's `normalize.less` sets `[hidden] { display: none; }` but bootstrap.min.css set `[hidden] { display: none !important; }` so we also need the `!important` here to be able to override the default hidden behavior on the sphinx rendered scikit-learn.org. See: https://github.com/scikit-learn/scikit-learn/issues/21755 */display: inline-block !important;position: relative;}#sk-container-id-11 div.sk-text-repr-fallback {display: none;}</style><div id=\"sk-container-id-11\" class=\"sk-top-container\"><div class=\"sk-text-repr-fallback\"><pre>LGBMRegressor(boosting_type=&#x27;rf&#x27;, colsample_bytree=0.5, min_child_samples=10,\n",
       "              min_child_weight=5, min_split_gain=0, n_estimators=400, n_jobs=12,\n",
       "              num_leaves=165, reg_alpha=10, reg_lambda=0, subsample=0.632,\n",
       "              subsample_freq=1)</pre><b>In a Jupyter environment, please rerun this cell to show the HTML representation or trust the notebook. <br />On GitHub, the HTML representation is unable to render, please try loading this page with nbviewer.org.</b></div><div class=\"sk-container\" hidden><div class=\"sk-item\"><div class=\"sk-estimator sk-toggleable\"><input class=\"sk-toggleable__control sk-hidden--visually\" id=\"sk-estimator-id-11\" type=\"checkbox\" checked><label for=\"sk-estimator-id-11\" class=\"sk-toggleable__label sk-toggleable__label-arrow\">LGBMRegressor</label><div class=\"sk-toggleable__content\"><pre>LGBMRegressor(boosting_type=&#x27;rf&#x27;, colsample_bytree=0.5, min_child_samples=10,\n",
       "              min_child_weight=5, min_split_gain=0, n_estimators=400, n_jobs=12,\n",
       "              num_leaves=165, reg_alpha=10, reg_lambda=0, subsample=0.632,\n",
       "              subsample_freq=1)</pre></div></div></div></div></div>"
      ],
      "text/plain": [
       "LGBMRegressor(boosting_type='rf', colsample_bytree=0.5, min_child_samples=10,\n",
       "              min_child_weight=5, min_split_gain=0, n_estimators=400, n_jobs=12,\n",
       "              num_leaves=165, reg_alpha=10, reg_lambda=0, subsample=0.632,\n",
       "              subsample_freq=1)"
      ]
     },
     "execution_count": 544,
     "metadata": {},
     "output_type": "execute_result"
    }
   ],
   "source": [
    "import time\n",
    "import matplotlib as mpl\n",
    "#from sklearn.model_selection import StratifiedKFold\n",
    "#imp_l1 = pd.DataFrame()\n",
    "#imp_l1[\"feature\"] = trn_df.columns\n",
    "\n",
    "#folds = StratifiedKFold(n_splits=5, shuffle=True, random_state=15)\n",
    "#oof_1 = np.zeros(len(trn_df))\n",
    "#start = time.time()\n",
    "#for fold_, (trn_idx, val_idx) in enumerate(folds.split(trn_df.values, target.values)):\n",
    "reg.fit(\n",
    "    trn_df.values, target.values,\n",
    "    feature_name=list(trn_df.columns),\n",
    "    categorical_feature=catcols,\n",
    ")\n"
   ]
  },
  {
   "cell_type": "code",
   "execution_count": null,
   "metadata": {},
   "outputs": [
    {
     "data": {
      "text/plain": [
       "<AxesSubplot: title={'center': 'Feature importance'}, xlabel='Feature importance', ylabel='Features'>"
      ]
     },
     "execution_count": 545,
     "metadata": {},
     "output_type": "execute_result"
    },
    {
     "data": {
      "image/png": "[encoded data removed]",
      "text/plain": [
       "<Figure size 600x800 with 1 Axes>"
      ]
     },
     "metadata": {},
     "output_type": "display_data"
    }
   ],
   "source": [
    "lgb.plot_importance(reg,figsize=(6,8),height=0.8,ignore_zero=False)"
   ]
  },
  {
   "cell_type": "code",
   "execution_count": null,
   "metadata": {},
   "outputs": [],
   "source": [
    "df.drop(axis=\"columns\",labels=[\"Id\",\"groupId\",\"matchType_crashtpp\",\"matchType_flaretpp\",\"matchType_flarefpp\",\"matchType_normal-duo\",\"matchType_normal-squad\",\"matchType_normal-solo-fpp\",\"matchType_crashfpp\",\"roadKills\",\"vehicleDestroys\",\"teamKills\",\"matchType_normal-duo-fpp\",\"headshotKills\",\"matchType_solo\",\"killPoints\",\"revives\",\"matchType_duo-fpp\",\"matchId\",\"matchType_squad-fpp\",\"rankPoints\",\"winPoints\"],inplace=True)"
   ]
  },
  {
   "cell_type": "code",
   "execution_count": null,
   "metadata": {},
   "outputs": [],
   "source": [
    "testdf=pd.read_csv(\"test.csv\")\n",
    "#mockdf=pd.read_csv(\"mocksubmission.csv\")"
   ]
  },
  {
   "cell_type": "code",
   "execution_count": null,
   "metadata": {},
   "outputs": [
    {
     "data": {
      "text/html": [
       "<div>\n",
       "<style scoped>\n",
       "    .dataframe tbody tr th:only-of-type {\n",
       "        vertical-align: middle;\n",
       "    }\n",
       "\n",
       "    .dataframe tbody tr th {\n",
       "        vertical-align: top;\n",
       "    }\n",
       "\n",
       "    .dataframe thead th {\n",
       "        text-align: right;\n",
       "    }\n",
       "</style>\n",
       "<table border=\"1\" class=\"dataframe\">\n",
       "  <thead>\n",
       "    <tr style=\"text-align: right;\">\n",
       "      <th></th>\n",
       "      <th>Id</th>\n",
       "      <th>groupId</th>\n",
       "      <th>matchId</th>\n",
       "      <th>assists</th>\n",
       "      <th>boosts</th>\n",
       "      <th>damageDealt</th>\n",
       "      <th>DBNOs</th>\n",
       "      <th>headshotKills</th>\n",
       "      <th>heals</th>\n",
       "      <th>killPlace</th>\n",
       "      <th>...</th>\n",
       "      <th>rankPoints</th>\n",
       "      <th>revives</th>\n",
       "      <th>rideDistance</th>\n",
       "      <th>roadKills</th>\n",
       "      <th>swimDistance</th>\n",
       "      <th>teamKills</th>\n",
       "      <th>vehicleDestroys</th>\n",
       "      <th>walkDistance</th>\n",
       "      <th>weaponsAcquired</th>\n",
       "      <th>winPoints</th>\n",
       "    </tr>\n",
       "  </thead>\n",
       "  <tbody>\n",
       "    <tr>\n",
       "      <th>0</th>\n",
       "      <td>a5e44e9ccbd861</td>\n",
       "      <td>d59db3787770f1</td>\n",
       "      <td>673b10e9fb9569</td>\n",
       "      <td>0</td>\n",
       "      <td>0</td>\n",
       "      <td>0.0</td>\n",
       "      <td>0</td>\n",
       "      <td>0</td>\n",
       "      <td>0</td>\n",
       "      <td>84</td>\n",
       "      <td>...</td>\n",
       "      <td>-1</td>\n",
       "      <td>0</td>\n",
       "      <td>0.0</td>\n",
       "      <td>0</td>\n",
       "      <td>0.000</td>\n",
       "      <td>0</td>\n",
       "      <td>0</td>\n",
       "      <td>11.92</td>\n",
       "      <td>0</td>\n",
       "      <td>1516</td>\n",
       "    </tr>\n",
       "    <tr>\n",
       "      <th>1</th>\n",
       "      <td>ec09f9f5c29d75</td>\n",
       "      <td>fa6c32fa872ffb</td>\n",
       "      <td>f4962a6445499b</td>\n",
       "      <td>4</td>\n",
       "      <td>4</td>\n",
       "      <td>637.2</td>\n",
       "      <td>2</td>\n",
       "      <td>1</td>\n",
       "      <td>1</td>\n",
       "      <td>6</td>\n",
       "      <td>...</td>\n",
       "      <td>1478</td>\n",
       "      <td>1</td>\n",
       "      <td>0.0</td>\n",
       "      <td>0</td>\n",
       "      <td>6.755</td>\n",
       "      <td>0</td>\n",
       "      <td>0</td>\n",
       "      <td>3547.00</td>\n",
       "      <td>3</td>\n",
       "      <td>0</td>\n",
       "    </tr>\n",
       "    <tr>\n",
       "      <th>2</th>\n",
       "      <td>fe603d927d7792</td>\n",
       "      <td>96a01db6216403</td>\n",
       "      <td>f6c6ca38bd0452</td>\n",
       "      <td>0</td>\n",
       "      <td>0</td>\n",
       "      <td>0.0</td>\n",
       "      <td>0</td>\n",
       "      <td>0</td>\n",
       "      <td>0</td>\n",
       "      <td>74</td>\n",
       "      <td>...</td>\n",
       "      <td>-1</td>\n",
       "      <td>0</td>\n",
       "      <td>0.0</td>\n",
       "      <td>0</td>\n",
       "      <td>0.000</td>\n",
       "      <td>0</td>\n",
       "      <td>0</td>\n",
       "      <td>558.60</td>\n",
       "      <td>2</td>\n",
       "      <td>1492</td>\n",
       "    </tr>\n",
       "    <tr>\n",
       "      <th>3</th>\n",
       "      <td>f7aa0b9da441b1</td>\n",
       "      <td>18f0ea9d617675</td>\n",
       "      <td>0ef5e1ef794417</td>\n",
       "      <td>0</td>\n",
       "      <td>8</td>\n",
       "      <td>830.8</td>\n",
       "      <td>5</td>\n",
       "      <td>0</td>\n",
       "      <td>1</td>\n",
       "      <td>1</td>\n",
       "      <td>...</td>\n",
       "      <td>1531</td>\n",
       "      <td>0</td>\n",
       "      <td>0.0</td>\n",
       "      <td>0</td>\n",
       "      <td>0.000</td>\n",
       "      <td>0</td>\n",
       "      <td>0</td>\n",
       "      <td>3443.00</td>\n",
       "      <td>6</td>\n",
       "      <td>0</td>\n",
       "    </tr>\n",
       "    <tr>\n",
       "      <th>4</th>\n",
       "      <td>bcd3f9cb689f6c</td>\n",
       "      <td>6d0a87eb28a92f</td>\n",
       "      <td>42abdc80c2f13b</td>\n",
       "      <td>0</td>\n",
       "      <td>0</td>\n",
       "      <td>0.0</td>\n",
       "      <td>0</td>\n",
       "      <td>0</td>\n",
       "      <td>0</td>\n",
       "      <td>75</td>\n",
       "      <td>...</td>\n",
       "      <td>1489</td>\n",
       "      <td>1</td>\n",
       "      <td>0.0</td>\n",
       "      <td>0</td>\n",
       "      <td>0.000</td>\n",
       "      <td>0</td>\n",
       "      <td>0</td>\n",
       "      <td>107.50</td>\n",
       "      <td>1</td>\n",
       "      <td>0</td>\n",
       "    </tr>\n",
       "  </tbody>\n",
       "</table>\n",
       "<p>5 rows × 28 columns</p>\n",
       "</div>"
      ],
      "text/plain": [
       "               Id         groupId         matchId  assists  boosts  \\\n",
       "0  a5e44e9ccbd861  d59db3787770f1  673b10e9fb9569        0       0   \n",
       "1  ec09f9f5c29d75  fa6c32fa872ffb  f4962a6445499b        4       4   \n",
       "2  fe603d927d7792  96a01db6216403  f6c6ca38bd0452        0       0   \n",
       "3  f7aa0b9da441b1  18f0ea9d617675  0ef5e1ef794417        0       8   \n",
       "4  bcd3f9cb689f6c  6d0a87eb28a92f  42abdc80c2f13b        0       0   \n",
       "\n",
       "   damageDealt  DBNOs  headshotKills  heals  killPlace  ...  rankPoints  \\\n",
       "0          0.0      0              0      0         84  ...          -1   \n",
       "1        637.2      2              1      1          6  ...        1478   \n",
       "2          0.0      0              0      0         74  ...          -1   \n",
       "3        830.8      5              0      1          1  ...        1531   \n",
       "4          0.0      0              0      0         75  ...        1489   \n",
       "\n",
       "   revives  rideDistance  roadKills  swimDistance teamKills  vehicleDestroys  \\\n",
       "0        0           0.0          0         0.000         0                0   \n",
       "1        1           0.0          0         6.755         0                0   \n",
       "2        0           0.0          0         0.000         0                0   \n",
       "3        0           0.0          0         0.000         0                0   \n",
       "4        1           0.0          0         0.000         0                0   \n",
       "\n",
       "   walkDistance  weaponsAcquired  winPoints  \n",
       "0         11.92                0       1516  \n",
       "1       3547.00                3          0  \n",
       "2        558.60                2       1492  \n",
       "3       3443.00                6          0  \n",
       "4        107.50                1          0  \n",
       "\n",
       "[5 rows x 28 columns]"
      ]
     },
     "execution_count": 548,
     "metadata": {},
     "output_type": "execute_result"
    }
   ],
   "source": [
    "testdf.head()"
   ]
  },
  {
   "cell_type": "code",
   "execution_count": null,
   "metadata": {},
   "outputs": [
    {
     "data": {
      "text/html": [
       "<div>\n",
       "<style scoped>\n",
       "    .dataframe tbody tr th:only-of-type {\n",
       "        vertical-align: middle;\n",
       "    }\n",
       "\n",
       "    .dataframe tbody tr th {\n",
       "        vertical-align: top;\n",
       "    }\n",
       "\n",
       "    .dataframe thead th {\n",
       "        text-align: right;\n",
       "    }\n",
       "</style>\n",
       "<table border=\"1\" class=\"dataframe\">\n",
       "  <thead>\n",
       "    <tr style=\"text-align: right;\">\n",
       "      <th></th>\n",
       "      <th>assists</th>\n",
       "      <th>boosts</th>\n",
       "      <th>damageDealt</th>\n",
       "      <th>DBNOs</th>\n",
       "      <th>headshotKills</th>\n",
       "      <th>heals</th>\n",
       "      <th>killPlace</th>\n",
       "      <th>killPoints</th>\n",
       "      <th>kills</th>\n",
       "      <th>killStreaks</th>\n",
       "      <th>...</th>\n",
       "      <th>rankPoints</th>\n",
       "      <th>revives</th>\n",
       "      <th>rideDistance</th>\n",
       "      <th>roadKills</th>\n",
       "      <th>swimDistance</th>\n",
       "      <th>teamKills</th>\n",
       "      <th>vehicleDestroys</th>\n",
       "      <th>walkDistance</th>\n",
       "      <th>weaponsAcquired</th>\n",
       "      <th>winPoints</th>\n",
       "    </tr>\n",
       "  </thead>\n",
       "  <tbody>\n",
       "    <tr>\n",
       "      <th>count</th>\n",
       "      <td>1.334090e+06</td>\n",
       "      <td>1.334090e+06</td>\n",
       "      <td>1.334090e+06</td>\n",
       "      <td>1.334090e+06</td>\n",
       "      <td>1.334090e+06</td>\n",
       "      <td>1.334090e+06</td>\n",
       "      <td>1.334090e+06</td>\n",
       "      <td>1.334090e+06</td>\n",
       "      <td>1.334090e+06</td>\n",
       "      <td>1.334090e+06</td>\n",
       "      <td>...</td>\n",
       "      <td>1.334090e+06</td>\n",
       "      <td>1.334090e+06</td>\n",
       "      <td>1.334090e+06</td>\n",
       "      <td>1.334090e+06</td>\n",
       "      <td>1.334090e+06</td>\n",
       "      <td>1.334090e+06</td>\n",
       "      <td>1.334090e+06</td>\n",
       "      <td>1.334090e+06</td>\n",
       "      <td>1.334090e+06</td>\n",
       "      <td>1.334090e+06</td>\n",
       "    </tr>\n",
       "    <tr>\n",
       "      <th>mean</th>\n",
       "      <td>2.335607e-01</td>\n",
       "      <td>1.104922e+00</td>\n",
       "      <td>1.305197e+02</td>\n",
       "      <td>6.557609e-01</td>\n",
       "      <td>2.266706e-01</td>\n",
       "      <td>1.368665e+00</td>\n",
       "      <td>4.763966e+01</td>\n",
       "      <td>5.049926e+02</td>\n",
       "      <td>9.237038e-01</td>\n",
       "      <td>5.433711e-01</td>\n",
       "      <td>...</td>\n",
       "      <td>8.918977e+02</td>\n",
       "      <td>1.642873e-01</td>\n",
       "      <td>6.042083e+02</td>\n",
       "      <td>3.475028e-03</td>\n",
       "      <td>4.458578e+00</td>\n",
       "      <td>2.400663e-02</td>\n",
       "      <td>7.940993e-03</td>\n",
       "      <td>1.152637e+03</td>\n",
       "      <td>3.656769e+00</td>\n",
       "      <td>6.064880e+02</td>\n",
       "    </tr>\n",
       "    <tr>\n",
       "      <th>std</th>\n",
       "      <td>5.880474e-01</td>\n",
       "      <td>1.714592e+00</td>\n",
       "      <td>1.708329e+02</td>\n",
       "      <td>1.143485e+00</td>\n",
       "      <td>6.010298e-01</td>\n",
       "      <td>2.681799e+00</td>\n",
       "      <td>2.746317e+01</td>\n",
       "      <td>6.274200e+02</td>\n",
       "      <td>1.557668e+00</td>\n",
       "      <td>7.104985e-01</td>\n",
       "      <td>...</td>\n",
       "      <td>7.366239e+02</td>\n",
       "      <td>4.724911e-01</td>\n",
       "      <td>1.493394e+03</td>\n",
       "      <td>7.217662e-02</td>\n",
       "      <td>3.025125e+01</td>\n",
       "      <td>1.678188e-01</td>\n",
       "      <td>9.250435e-02</td>\n",
       "      <td>1.183499e+03</td>\n",
       "      <td>2.450128e+00</td>\n",
       "      <td>7.396696e+02</td>\n",
       "    </tr>\n",
       "    <tr>\n",
       "      <th>min</th>\n",
       "      <td>0.000000e+00</td>\n",
       "      <td>0.000000e+00</td>\n",
       "      <td>0.000000e+00</td>\n",
       "      <td>0.000000e+00</td>\n",
       "      <td>0.000000e+00</td>\n",
       "      <td>0.000000e+00</td>\n",
       "      <td>1.000000e+00</td>\n",
       "      <td>0.000000e+00</td>\n",
       "      <td>0.000000e+00</td>\n",
       "      <td>0.000000e+00</td>\n",
       "      <td>...</td>\n",
       "      <td>-1.000000e+00</td>\n",
       "      <td>0.000000e+00</td>\n",
       "      <td>0.000000e+00</td>\n",
       "      <td>0.000000e+00</td>\n",
       "      <td>0.000000e+00</td>\n",
       "      <td>0.000000e+00</td>\n",
       "      <td>0.000000e+00</td>\n",
       "      <td>0.000000e+00</td>\n",
       "      <td>0.000000e+00</td>\n",
       "      <td>0.000000e+00</td>\n",
       "    </tr>\n",
       "    <tr>\n",
       "      <th>25%</th>\n",
       "      <td>0.000000e+00</td>\n",
       "      <td>0.000000e+00</td>\n",
       "      <td>0.000000e+00</td>\n",
       "      <td>0.000000e+00</td>\n",
       "      <td>0.000000e+00</td>\n",
       "      <td>0.000000e+00</td>\n",
       "      <td>2.400000e+01</td>\n",
       "      <td>0.000000e+00</td>\n",
       "      <td>0.000000e+00</td>\n",
       "      <td>0.000000e+00</td>\n",
       "      <td>...</td>\n",
       "      <td>-1.000000e+00</td>\n",
       "      <td>0.000000e+00</td>\n",
       "      <td>0.000000e+00</td>\n",
       "      <td>0.000000e+00</td>\n",
       "      <td>0.000000e+00</td>\n",
       "      <td>0.000000e+00</td>\n",
       "      <td>0.000000e+00</td>\n",
       "      <td>1.546000e+02</td>\n",
       "      <td>2.000000e+00</td>\n",
       "      <td>0.000000e+00</td>\n",
       "    </tr>\n",
       "    <tr>\n",
       "      <th>50%</th>\n",
       "      <td>0.000000e+00</td>\n",
       "      <td>0.000000e+00</td>\n",
       "      <td>8.400000e+01</td>\n",
       "      <td>0.000000e+00</td>\n",
       "      <td>0.000000e+00</td>\n",
       "      <td>0.000000e+00</td>\n",
       "      <td>4.700000e+01</td>\n",
       "      <td>0.000000e+00</td>\n",
       "      <td>0.000000e+00</td>\n",
       "      <td>0.000000e+00</td>\n",
       "      <td>...</td>\n",
       "      <td>1.443000e+03</td>\n",
       "      <td>0.000000e+00</td>\n",
       "      <td>0.000000e+00</td>\n",
       "      <td>0.000000e+00</td>\n",
       "      <td>0.000000e+00</td>\n",
       "      <td>0.000000e+00</td>\n",
       "      <td>0.000000e+00</td>\n",
       "      <td>6.830000e+02</td>\n",
       "      <td>3.000000e+00</td>\n",
       "      <td>0.000000e+00</td>\n",
       "    </tr>\n",
       "    <tr>\n",
       "      <th>75%</th>\n",
       "      <td>0.000000e+00</td>\n",
       "      <td>2.000000e+00</td>\n",
       "      <td>1.854000e+02</td>\n",
       "      <td>1.000000e+00</td>\n",
       "      <td>0.000000e+00</td>\n",
       "      <td>2.000000e+00</td>\n",
       "      <td>7.100000e+01</td>\n",
       "      <td>1.172000e+03</td>\n",
       "      <td>1.000000e+00</td>\n",
       "      <td>1.000000e+00</td>\n",
       "      <td>...</td>\n",
       "      <td>1.500000e+03</td>\n",
       "      <td>0.000000e+00</td>\n",
       "      <td>5.110000e-02</td>\n",
       "      <td>0.000000e+00</td>\n",
       "      <td>0.000000e+00</td>\n",
       "      <td>0.000000e+00</td>\n",
       "      <td>0.000000e+00</td>\n",
       "      <td>1.972000e+03</td>\n",
       "      <td>5.000000e+00</td>\n",
       "      <td>1.495000e+03</td>\n",
       "    </tr>\n",
       "    <tr>\n",
       "      <th>max</th>\n",
       "      <td>2.100000e+01</td>\n",
       "      <td>2.400000e+01</td>\n",
       "      <td>5.479000e+03</td>\n",
       "      <td>3.900000e+01</td>\n",
       "      <td>4.600000e+01</td>\n",
       "      <td>7.300000e+01</td>\n",
       "      <td>1.010000e+02</td>\n",
       "      <td>2.156000e+03</td>\n",
       "      <td>5.600000e+01</td>\n",
       "      <td>1.200000e+01</td>\n",
       "      <td>...</td>\n",
       "      <td>5.910000e+03</td>\n",
       "      <td>3.200000e+01</td>\n",
       "      <td>3.129000e+04</td>\n",
       "      <td>1.100000e+01</td>\n",
       "      <td>3.823000e+03</td>\n",
       "      <td>1.200000e+01</td>\n",
       "      <td>4.000000e+00</td>\n",
       "      <td>1.513000e+04</td>\n",
       "      <td>1.020000e+02</td>\n",
       "      <td>2.013000e+03</td>\n",
       "    </tr>\n",
       "  </tbody>\n",
       "</table>\n",
       "<p>8 rows × 24 columns</p>\n",
       "</div>"
      ],
      "text/plain": [
       "            assists        boosts   damageDealt         DBNOs  headshotKills  \\\n",
       "count  1.334090e+06  1.334090e+06  1.334090e+06  1.334090e+06   1.334090e+06   \n",
       "mean   2.335607e-01  1.104922e+00  1.305197e+02  6.557609e-01   2.266706e-01   \n",
       "std    5.880474e-01  1.714592e+00  1.708329e+02  1.143485e+00   6.010298e-01   \n",
       "min    0.000000e+00  0.000000e+00  0.000000e+00  0.000000e+00   0.000000e+00   \n",
       "25%    0.000000e+00  0.000000e+00  0.000000e+00  0.000000e+00   0.000000e+00   \n",
       "50%    0.000000e+00  0.000000e+00  8.400000e+01  0.000000e+00   0.000000e+00   \n",
       "75%    0.000000e+00  2.000000e+00  1.854000e+02  1.000000e+00   0.000000e+00   \n",
       "max    2.100000e+01  2.400000e+01  5.479000e+03  3.900000e+01   4.600000e+01   \n",
       "\n",
       "              heals     killPlace    killPoints         kills   killStreaks  \\\n",
       "count  1.334090e+06  1.334090e+06  1.334090e+06  1.334090e+06  1.334090e+06   \n",
       "mean   1.368665e+00  4.763966e+01  5.049926e+02  9.237038e-01  5.433711e-01   \n",
       "std    2.681799e+00  2.746317e+01  6.274200e+02  1.557668e+00  7.104985e-01   \n",
       "min    0.000000e+00  1.000000e+00  0.000000e+00  0.000000e+00  0.000000e+00   \n",
       "25%    0.000000e+00  2.400000e+01  0.000000e+00  0.000000e+00  0.000000e+00   \n",
       "50%    0.000000e+00  4.700000e+01  0.000000e+00  0.000000e+00  0.000000e+00   \n",
       "75%    2.000000e+00  7.100000e+01  1.172000e+03  1.000000e+00  1.000000e+00   \n",
       "max    7.300000e+01  1.010000e+02  2.156000e+03  5.600000e+01  1.200000e+01   \n",
       "\n",
       "       ...    rankPoints       revives  rideDistance     roadKills  \\\n",
       "count  ...  1.334090e+06  1.334090e+06  1.334090e+06  1.334090e+06   \n",
       "mean   ...  8.918977e+02  1.642873e-01  6.042083e+02  3.475028e-03   \n",
       "std    ...  7.366239e+02  4.724911e-01  1.493394e+03  7.217662e-02   \n",
       "min    ... -1.000000e+00  0.000000e+00  0.000000e+00  0.000000e+00   \n",
       "25%    ... -1.000000e+00  0.000000e+00  0.000000e+00  0.000000e+00   \n",
       "50%    ...  1.443000e+03  0.000000e+00  0.000000e+00  0.000000e+00   \n",
       "75%    ...  1.500000e+03  0.000000e+00  5.110000e-02  0.000000e+00   \n",
       "max    ...  5.910000e+03  3.200000e+01  3.129000e+04  1.100000e+01   \n",
       "\n",
       "       swimDistance     teamKills  vehicleDestroys  walkDistance  \\\n",
       "count  1.334090e+06  1.334090e+06     1.334090e+06  1.334090e+06   \n",
       "mean   4.458578e+00  2.400663e-02     7.940993e-03  1.152637e+03   \n",
       "std    3.025125e+01  1.678188e-01     9.250435e-02  1.183499e+03   \n",
       "min    0.000000e+00  0.000000e+00     0.000000e+00  0.000000e+00   \n",
       "25%    0.000000e+00  0.000000e+00     0.000000e+00  1.546000e+02   \n",
       "50%    0.000000e+00  0.000000e+00     0.000000e+00  6.830000e+02   \n",
       "75%    0.000000e+00  0.000000e+00     0.000000e+00  1.972000e+03   \n",
       "max    3.823000e+03  1.200000e+01     4.000000e+00  1.513000e+04   \n",
       "\n",
       "       weaponsAcquired     winPoints  \n",
       "count     1.334090e+06  1.334090e+06  \n",
       "mean      3.656769e+00  6.064880e+02  \n",
       "std       2.450128e+00  7.396696e+02  \n",
       "min       0.000000e+00  0.000000e+00  \n",
       "25%       2.000000e+00  0.000000e+00  \n",
       "50%       3.000000e+00  0.000000e+00  \n",
       "75%       5.000000e+00  1.495000e+03  \n",
       "max       1.020000e+02  2.013000e+03  \n",
       "\n",
       "[8 rows x 24 columns]"
      ]
     },
     "execution_count": 549,
     "metadata": {},
     "output_type": "execute_result"
    }
   ],
   "source": [
    "testdf.describe()"
   ]
  },
  {
   "cell_type": "code",
   "execution_count": null,
   "metadata": {},
   "outputs": [],
   "source": [
    "testdf.loc[testdf[\"rankPoints\"]==-1,\"rankPoints\"]=np.nan\n",
    "testdf.loc[((testdf[\"rankPoints\"]!=-1) & (testdf[\"killPoints\"]==0)),\"killPoints\"]=np.nan\n",
    "testdf.loc[((testdf[\"rankPoints\"]!=-1) & (testdf[\"winPoints\"]==0)),\"winPoints\"]=np.nan"
   ]
  },
  {
   "cell_type": "code",
   "execution_count": null,
   "metadata": {},
   "outputs": [],
   "source": [
    "#mockdf.loc[mockdf[\"rankPoints\"]==-1,\"rankPoints\"]=np.nan\n",
    "#mockdf.loc[((mockdf[\"rankPoints\"]!=-1) & (mockdf[\"killPoints\"]==0)),\"killPoints\"]=np.nan\n",
    "#mockdf.loc[((mockdf[\"rankPoints\"]!=-1) & (mockdf[\"winPoints\"]==0)),\"winPoints\"]=np.nan"
   ]
  },
  {
   "cell_type": "code",
   "execution_count": null,
   "metadata": {},
   "outputs": [],
   "source": [
    "testdf.loc[testdf[\"killPoints\"].isna(),\"killPoints\"]=testdf[\"killPoints\"].mean()\n",
    "testdf.loc[testdf[\"winPoints\"].isna(),\"winPoints\"]=testdf[\"winPoints\"].mean()\n",
    "testdf.loc[testdf[\"rankPoints\"].isna(),\"rankPoints\"]=testdf[\"rankPoints\"].mean()"
   ]
  },
  {
   "cell_type": "code",
   "execution_count": null,
   "metadata": {},
   "outputs": [],
   "source": [
    "idlist=testdf[\"Id\"]"
   ]
  },
  {
   "cell_type": "code",
   "execution_count": null,
   "metadata": {},
   "outputs": [],
   "source": [
    "#mockdf.loc[mockdf[\"killPoints\"].isna(),\"killPoints\"]=mockdf[\"killPoints\"].mean()\n",
    "#mockdf.loc[mockdf[\"winPoints\"].isna(),\"winPoints\"]=mockdf[\"winPoints\"].mean()\n",
    "#mockdf.loc[mockdf[\"rankPoints\"].isna(),\"rankPoints\"]=mockdf[\"rankPoints\"].mean()"
   ]
  },
  {
   "cell_type": "code",
   "execution_count": null,
   "metadata": {},
   "outputs": [],
   "source": [
    "#new_type=lbl_encodr.fit_transform(testdf[\"groupId\"])\n",
    "#testdf[\"groupId\"]=new_type"
   ]
  },
  {
   "cell_type": "code",
   "execution_count": null,
   "metadata": {},
   "outputs": [],
   "source": [
    "#new_type=lbl_encodr.fit_transform(testdf[\"matchType\"])\n",
    "#testdf[\"matchType\"]=new_type"
   ]
  },
  {
   "cell_type": "code",
   "execution_count": null,
   "metadata": {},
   "outputs": [],
   "source": [
    "#new_type=lbl_encodr.fit_transform(mockdf[\"groupId\"])\n",
    "#mockdf[\"groupId\"]=new_type"
   ]
  },
  {
   "cell_type": "code",
   "execution_count": null,
   "metadata": {},
   "outputs": [],
   "source": [
    "#new_type=lbl_encodr.fit_transform(mockdf[\"MatchType\"])\n",
    "#mockdf[\"MatchType\"]=new_type"
   ]
  },
  {
   "cell_type": "code",
   "execution_count": null,
   "metadata": {},
   "outputs": [],
   "source": [
    "col_ohenc=[\"matchType\"]\n",
    "testdf=pd.get_dummies(testdf,columns=col_ohenc)"
   ]
  },
  {
   "cell_type": "code",
   "execution_count": null,
   "metadata": {},
   "outputs": [],
   "source": [
    "testdfnum=testdf.drop(axis=\"columns\",labels=catcols)\n",
    "for i in testdfnum.columns:\n",
    "    normcol=testdf[i]\n",
    "    scaler=Standardizer(normcol.mean(),normcol.std())\n",
    "    scaledcol=normcol.apply(scaler.scale)\n",
    "    #print(i)\n",
    "    #sns.displot(scaledcol,kde=True)\n",
    "    #plt.show()\n",
    "    testdf[i]=scaledcol  "
   ]
  },
  {
   "cell_type": "code",
   "execution_count": null,
   "metadata": {},
   "outputs": [],
   "source": [
    "#mockdf.drop(axis=\"columns\",labels=[\"damageDealt\",\"killPoints\",\"kills\",\"killStreaks\",\"longestKill\",\"maxPlace\"],inplace=True)\n",
    "#mockdf.drop(axis=\"columns\",labels=[\"matchDuration\",\"numGroups\",\"rankPoints\",\"roadKills\",\"teamKills\",\"vehicleDestroys\",\"winPoints\"],inplace=True)\n",
    "#mockdf.drop(axis=\"columns\",labels=[\"matchId\",\"Id\"],inplace=True)"
   ]
  },
  {
   "cell_type": "code",
   "execution_count": null,
   "metadata": {},
   "outputs": [],
   "source": [
    "#mockdfnum=testdf.drop(axis=\"columns\",labels=[\"groupId\",\"matchType\"])\n",
    "#for i in mockdfnum.columns:\n",
    "#    normcol=mockdf[i]\n",
    "#    scaler=Standardizer(normcol.mean(),normcol.std())\n",
    "#    scaledcol=normcol.apply(scaler.scale)\n",
    "    #print(i)\n",
    "    #sns.displot(scaledcol,kde=True)\n",
    "    #plt.show()\n",
    "#    mockdf[i]=scaledcol  "
   ]
  },
  {
   "cell_type": "code",
   "execution_count": null,
   "metadata": {},
   "outputs": [],
   "source": [
    "testdf.drop(axis=\"columns\",labels=[\"Id\",\"groupId\",\"matchType_crashtpp\",\"matchType_flaretpp\",\"matchType_flarefpp\",\"matchType_normal-duo\",\"matchType_normal-squad\",\"matchType_normal-solo-fpp\",\"matchType_crashfpp\",\"roadKills\",\"vehicleDestroys\",\"teamKills\",\"matchType_normal-duo-fpp\",\"headshotKills\",\"matchType_solo\",\"killPoints\",\"revives\",\"matchType_duo-fpp\",\"matchId\",\"matchType_squad-fpp\",\"rankPoints\",\"winPoints\"],inplace=True)"
   ]
  },
  {
   "cell_type": "code",
   "execution_count": null,
   "metadata": {},
   "outputs": [
    {
     "data": {
      "text/plain": [
       "'from sklearn.linear_model import LinearRegression\\nfrom sklearn.metrics import mean_squared_error\\n\\nX_train=df.drop(axis=\"columns\",labels=\"winPlacePerc\")\\nY_train=df[\"winPlacePerc\"]\\nX_test=testdf\\n\\nmodal=LinearRegression()\\nlreq=modal.fit(X_train,Y_train)\\nY_pred=lreq.predict(X_train)'"
      ]
     },
     "execution_count": 564,
     "metadata": {},
     "output_type": "execute_result"
    }
   ],
   "source": [
    "'''from sklearn.linear_model import LinearRegression\n",
    "from sklearn.metrics import mean_squared_error\n",
    "\n",
    "X_train=df.drop(axis=\"columns\",labels=\"winPlacePerc\")\n",
    "Y_train=df[\"winPlacePerc\"]\n",
    "X_test=testdf\n",
    "\n",
    "modal=LinearRegression()\n",
    "lreq=modal.fit(X_train,Y_train)\n",
    "Y_pred=lreq.predict(X_train)'''"
   ]
  },
  {
   "cell_type": "code",
   "execution_count": null,
   "metadata": {},
   "outputs": [
    {
     "data": {
      "text/html": [
       "<style>#sk-container-id-12 {color: black;background-color: white;}#sk-container-id-12 pre{padding: 0;}#sk-container-id-12 div.sk-toggleable {background-color: white;}#sk-container-id-12 label.sk-toggleable__label {cursor: pointer;display: block;width: 100%;margin-bottom: 0;padding: 0.3em;box-sizing: border-box;text-align: center;}#sk-container-id-12 label.sk-toggleable__label-arrow:before {content: \"▸\";float: left;margin-right: 0.25em;color: #696969;}#sk-container-id-12 label.sk-toggleable__label-arrow:hover:before {color: black;}#sk-container-id-12 div.sk-estimator:hover label.sk-toggleable__label-arrow:before {color: black;}#sk-container-id-12 div.sk-toggleable__content {max-height: 0;max-width: 0;overflow: hidden;text-align: left;background-color: #f0f8ff;}#sk-container-id-12 div.sk-toggleable__content pre {margin: 0.2em;color: black;border-radius: 0.25em;background-color: #f0f8ff;}#sk-container-id-12 input.sk-toggleable__control:checked~div.sk-toggleable__content {max-height: 200px;max-width: 100%;overflow: auto;}#sk-container-id-12 input.sk-toggleable__control:checked~label.sk-toggleable__label-arrow:before {content: \"▾\";}#sk-container-id-12 div.sk-estimator input.sk-toggleable__control:checked~label.sk-toggleable__label {background-color: #d4ebff;}#sk-container-id-12 div.sk-label input.sk-toggleable__control:checked~label.sk-toggleable__label {background-color: #d4ebff;}#sk-container-id-12 input.sk-hidden--visually {border: 0;clip: rect(1px 1px 1px 1px);clip: rect(1px, 1px, 1px, 1px);height: 1px;margin: -1px;overflow: hidden;padding: 0;position: absolute;width: 1px;}#sk-container-id-12 div.sk-estimator {font-family: monospace;background-color: #f0f8ff;border: 1px dotted black;border-radius: 0.25em;box-sizing: border-box;margin-bottom: 0.5em;}#sk-container-id-12 div.sk-estimator:hover {background-color: #d4ebff;}#sk-container-id-12 div.sk-parallel-item::after {content: \"\";width: 100%;border-bottom: 1px solid gray;flex-grow: 1;}#sk-container-id-12 div.sk-label:hover label.sk-toggleable__label {background-color: #d4ebff;}#sk-container-id-12 div.sk-serial::before {content: \"\";position: absolute;border-left: 1px solid gray;box-sizing: border-box;top: 0;bottom: 0;left: 50%;z-index: 0;}#sk-container-id-12 div.sk-serial {display: flex;flex-direction: column;align-items: center;background-color: white;padding-right: 0.2em;padding-left: 0.2em;position: relative;}#sk-container-id-12 div.sk-item {position: relative;z-index: 1;}#sk-container-id-12 div.sk-parallel {display: flex;align-items: stretch;justify-content: center;background-color: white;position: relative;}#sk-container-id-12 div.sk-item::before, #sk-container-id-12 div.sk-parallel-item::before {content: \"\";position: absolute;border-left: 1px solid gray;box-sizing: border-box;top: 0;bottom: 0;left: 50%;z-index: -1;}#sk-container-id-12 div.sk-parallel-item {display: flex;flex-direction: column;z-index: 1;position: relative;background-color: white;}#sk-container-id-12 div.sk-parallel-item:first-child::after {align-self: flex-end;width: 50%;}#sk-container-id-12 div.sk-parallel-item:last-child::after {align-self: flex-start;width: 50%;}#sk-container-id-12 div.sk-parallel-item:only-child::after {width: 0;}#sk-container-id-12 div.sk-dashed-wrapped {border: 1px dashed gray;margin: 0 0.4em 0.5em 0.4em;box-sizing: border-box;padding-bottom: 0.4em;background-color: white;}#sk-container-id-12 div.sk-label label {font-family: monospace;font-weight: bold;display: inline-block;line-height: 1.2em;}#sk-container-id-12 div.sk-label-container {text-align: center;}#sk-container-id-12 div.sk-container {/* jupyter's `normalize.less` sets `[hidden] { display: none; }` but bootstrap.min.css set `[hidden] { display: none !important; }` so we also need the `!important` here to be able to override the default hidden behavior on the sphinx rendered scikit-learn.org. See: https://github.com/scikit-learn/scikit-learn/issues/21755 */display: inline-block !important;position: relative;}#sk-container-id-12 div.sk-text-repr-fallback {display: none;}</style><div id=\"sk-container-id-12\" class=\"sk-top-container\"><div class=\"sk-text-repr-fallback\"><pre>LGBMRegressor(boosting_type=&#x27;rf&#x27;, colsample_bytree=0.5, min_child_samples=10,\n",
       "              min_child_weight=5, min_split_gain=0, n_estimators=400, n_jobs=12,\n",
       "              num_leaves=165, reg_alpha=10, reg_lambda=0, subsample=0.632,\n",
       "              subsample_freq=1)</pre><b>In a Jupyter environment, please rerun this cell to show the HTML representation or trust the notebook. <br />On GitHub, the HTML representation is unable to render, please try loading this page with nbviewer.org.</b></div><div class=\"sk-container\" hidden><div class=\"sk-item\"><div class=\"sk-estimator sk-toggleable\"><input class=\"sk-toggleable__control sk-hidden--visually\" id=\"sk-estimator-id-12\" type=\"checkbox\" checked><label for=\"sk-estimator-id-12\" class=\"sk-toggleable__label sk-toggleable__label-arrow\">LGBMRegressor</label><div class=\"sk-toggleable__content\"><pre>LGBMRegressor(boosting_type=&#x27;rf&#x27;, colsample_bytree=0.5, min_child_samples=10,\n",
       "              min_child_weight=5, min_split_gain=0, n_estimators=400, n_jobs=12,\n",
       "              num_leaves=165, reg_alpha=10, reg_lambda=0, subsample=0.632,\n",
       "              subsample_freq=1)</pre></div></div></div></div></div>"
      ],
      "text/plain": [
       "LGBMRegressor(boosting_type='rf', colsample_bytree=0.5, min_child_samples=10,\n",
       "              min_child_weight=5, min_split_gain=0, n_estimators=400, n_jobs=12,\n",
       "              num_leaves=165, reg_alpha=10, reg_lambda=0, subsample=0.632,\n",
       "              subsample_freq=1)"
      ]
     },
     "execution_count": 565,
     "metadata": {},
     "output_type": "execute_result"
    }
   ],
   "source": [
    "from sklearn.ensemble import RandomForestRegressor\n",
    "from sklearn.metrics import mean_squared_error\n",
    "\n",
    "trn_df=df.drop(axis=\"columns\",labels=\"winPlacePerc\")\n",
    "\n",
    "reg.fit(\n",
    "    trn_df.values, target.values,\n",
    "    feature_name=list(trn_df.columns),\n",
    "    categorical_feature=[f for f in trn_df.columns if f in catcols],\n",
    ")"
   ]
  },
  {
   "cell_type": "code",
   "execution_count": null,
   "metadata": {},
   "outputs": [],
   "source": [
    "Y_train=target\n",
    "Y_pred=reg.predict(trn_df)"
   ]
  },
  {
   "cell_type": "code",
   "execution_count": null,
   "metadata": {},
   "outputs": [
    {
     "data": {
      "text/plain": [
       "0.01121881024459243"
      ]
     },
     "execution_count": 567,
     "metadata": {},
     "output_type": "execute_result"
    }
   ],
   "source": [
    "def mse(y,ypred):\n",
    "    return mean_squared_error(y,ypred)\n",
    "\n",
    "mse(Y_train,Y_pred)"
   ]
  },
  {
   "cell_type": "code",
   "execution_count": null,
   "metadata": {},
   "outputs": [],
   "source": [
    "Y_test_pred=reg.predict(testdf)\n",
    "subdb=pd.DataFrame()\n",
    "subdb[\"Id\"]=idlist\n",
    "subdb[\"winPlacePerc\"]=Y_test_pred\n",
    "subdb.to_csv(\"sub.csv\",index=False)"
   ]
  }
 ],
 "metadata": {
  "kernelspec": {
   "display_name": "Python 3.8.9 64-bit",
   "language": "python",
   "name": "python3"
  },
  "language_info": {
   "codemirror_mode": {
    "name": "ipython",
    "version": 3
   },
   "file_extension": ".py",
   "mimetype": "text/x-python",
   "name": "python",
   "nbconvert_exporter": "python",
   "pygments_lexer": "ipython3",
   "version": "3.8.9"
  },
  "orig_nbformat": 4,
  "vscode": {
   "interpreter": {
    "hash": "31f2aee4e71d21fbe5cf8b01ff0e069b9275f58929596ceb00d14d90e3e16cd6"
   }
  }
 },
 "nbformat": 4,
 "nbformat_minor": 2
}
